{
 "cells": [
  {
   "cell_type": "code",
   "execution_count": 22,
   "metadata": {},
   "outputs": [],
   "source": [
    "import csv \n",
    "\n",
    "high_resistance_levels = ['RI', 'HRI', 'RI/HRI', 'NI/RI/HRI']"
   ]
  },
  {
   "cell_type": "code",
   "execution_count": 23,
   "metadata": {},
   "outputs": [],
   "source": [
    "def parse_mutations(mutation_string):\n",
    "    start = mutation_string[0]\n",
    "    end = mutation_string[-1]\n",
    "    pos = mutation_string[1:-1]\n",
    "    return {\"start\": start, \"pos\": pos, \"end\": end}\n",
    "\n",
    "def parsed_to_string(parsed_mutation):\n",
    "    return parsed_mutation[\"start\"] + parsed_mutation[\"pos\"] + parsed_mutation[\"end\"]\n",
    "\n",
    "def initialize_drug_columns():\n",
    "    oseltamivir = []\n",
    "    zanamivir = []\n",
    "    peramivir = []\n",
    "    laninamivir = []\n",
    "\n",
    "    drug_columns = {\n",
    "        'Oseltamivir': oseltamivir,\n",
    "        'Zanamivir': zanamivir,\n",
    "        'Peramivir': peramivir,\n",
    "        'Laninamivir': laninamivir,\n",
    "    }\n",
    "    return drug_columns\n"
   ]
  },
  {
   "cell_type": "code",
   "execution_count": 24,
   "metadata": {},
   "outputs": [],
   "source": [
    "\n",
    "def fill_columns(input_file, sub_dict):\n",
    "    drug_columns = initialize_drug_columns()\n",
    "    with open(input_file, newline='') as csvfile:\n",
    "        reader = csv.DictReader(csvfile)\n",
    "        for row in reader: \n",
    "            mutations = row['Mutation']\n",
    "            if mutations.startswith(\"Del \"):\n",
    "                mutations = mutations[4:]\n",
    "                for mutation in mutations.split(\"-\"):\n",
    "                    for drug, mutation_list in drug_columns.items():\n",
    "                        level = row[drug].split(' ')[0]\n",
    "                        if level in high_resistance_levels:\n",
    "                            parsed = parse_mutations(mutation)\n",
    "                            if parsed[\"pos\"] in sub_dict:\n",
    "                                print(\"mutation in same position\")\n",
    "                                if sub_dict[parsed[\"pos\"]][\"end\"] == parsed[\"start\"]:\n",
    "                                    parsed[\"start\"] = sub_dict[parsed[\"pos\"]][\"start\"]\n",
    "                                    mutation_list.append(parsed_to_string(parsed))\n",
    "                                    continue\n",
    "                            mutation_list.append(mutation)\n",
    "                continue\n",
    "\n",
    "            for mutation in mutations.split('+'):\n",
    "                for drug, mutation_list in drug_columns.items():\n",
    "                    level = row[drug].split(' ')[0]\n",
    "                    if level in high_resistance_levels:\n",
    "                        parsed = parse_mutations(mutation)\n",
    "                        if parsed[\"pos\"] in sub_dict:\n",
    "                            print(\"mutation in same position\")\n",
    "                            if sub_dict[parsed[\"pos\"]][\"end\"] == parsed[\"start\"]:\n",
    "                                parsed[\"start\"] = sub_dict[parsed[\"pos\"]][\"start\"]\n",
    "                                mutation_list.append(parsed_to_string(parsed))\n",
    "                                continue\n",
    "                        mutation_list.append(mutation)\n",
    "    return drug_columns\n"
   ]
  },
  {
   "cell_type": "code",
   "execution_count": 25,
   "metadata": {},
   "outputs": [],
   "source": [
    "H3N2v_sub_list= \"NA:N93D NA:D147N NA:H150R NA:V194I NA:I215V NA:L285P NA:Y310H NA:L370S NA:S372L NA:N387K\".replace(\"NA:\", \"\").split(\" \")\n",
    "H3N2v_sub_dict = {parse_mutations(mutation)[\"pos\"]: parse_mutations(mutation) for mutation in H3N2v_sub_list}\n",
    "drug_columns_H3N2v = fill_columns('H3N2v.csv', H3N2v_sub_dict)\n",
    "\n",
    "H3N2_sub_list = \"NA:I20V,NA:N43D,NA:P46A,NA:N47S,NA:L52P,NA:T56I,NA:T69N,NA:E74D,NA:I77K,NA:L81V,NA:A82V,NA:N93Q,NA:P126H,NA:D127G,NA:N141D,NA:G143K,NA:V149I,NA:T153I,NA:Y155H,NA:K172R,NA:V194I,NA:N208D,NA:K220Q,NA:K221N,NA:K249R,NA:K253R,NA:T265I,NA:T267P,NA:V290I,NA:I302V,NA:V307M,NA:K308E,NA:V313D,NA:K328N,NA:N329D,NA:S331R,NA:S334N,NA:H336N,NA:L338R,NA:D339N,NA:E344R,NA:G346N,NA:H347Q,NA:D356N,NA:N358D,NA:E368K,NA:K369D,NA:E381G,NA:K385T,NA:L390S,NA:R400S,NA:G401D,NA:E435R,NA:L437W,NA:D463N,NA:L466F\".replace(\"NA:\", \"\").split(\",\")\n",
    "H3N2_sub_dict = {parse_mutations(mutation)[\"pos\"]: parse_mutations(mutation) for mutation in H3N2v_sub_list}\n",
    "drug_columns_H3N2 = fill_columns('H3N2.csv', H3N2_sub_dict)\n",
    "\n",
    "drug_columns_H3N2v.update(drug_columns_H3N2)\n",
    "\n",
    "for drug, mutation_list in drug_columns_H3N2v.items():\n",
    "    dict_ = {\n",
    "        'name': f'{drug} resistance mutations',\n",
    "        'description': f'The following mutations are associated with reduced inhibition by {drug}.',\n",
    "        'symbol': '*',\n",
    "        'nucleotideMutations': [],\n",
    "        'aminoAcidMutations': mutation_list,\n",
    "    }\n",
    "    with open(f'H3N2_{drug}.json', 'w') as jsonfile:\n",
    "        jsonfile.write(str(dict_))"
   ]
  },
  {
   "cell_type": "code",
   "execution_count": 26,
   "metadata": {},
   "outputs": [],
   "source": [
    "H1N1pdm_drug_columns = fill_columns('H1N1pdm.csv', {})\n",
    "for drug, mutation_list in H1N1pdm_drug_columns.items():\n",
    "    dict_ = {\n",
    "        'name': f'{drug} resistance mutations',\n",
    "        'description': f'The following mutations are associated with reduced inhibition by {drug}.',\n",
    "        'symbol': '*',\n",
    "        'nucleotideMutations': [],\n",
    "        'aminoAcidMutations': mutation_list,\n",
    "    }\n",
    "    with open(f'H1N1pdm_{drug}.json', 'w') as jsonfile:\n",
    "        jsonfile.write(str(dict_))"
   ]
  }
 ],
 "metadata": {
  "kernelspec": {
   "display_name": "influenza-db",
   "language": "python",
   "name": "python3"
  },
  "language_info": {
   "codemirror_mode": {
    "name": "ipython",
    "version": 3
   },
   "file_extension": ".py",
   "mimetype": "text/x-python",
   "name": "python",
   "nbconvert_exporter": "python",
   "pygments_lexer": "ipython3",
   "version": "3.12.9"
  }
 },
 "nbformat": 4,
 "nbformat_minor": 2
}
